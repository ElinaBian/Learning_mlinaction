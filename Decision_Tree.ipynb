{
 "cells": [
  {
   "cell_type": "markdown",
   "metadata": {},
   "source": [
    "# Classification Problem -- Decision Tree -- Classification Tree\n",
    "<br>\n",
    "**Pros**: Computationally cheap to use, easy for humans to understand learned results, missing values OK, can deal with irrelevant features\n",
    "\n",
    "**Cons**: Prone to overfitting\n",
    "\n",
    "**Works with**: Numeric values, nominal values\n",
    "<br><br>\n",
    "<font size=3>kNN最大的缺点就是无法给出数据的内在含义，决策树的优势就在于数据形式非常容易理解。\n",
    "<br>\n",
    "一些决策树算法采用二分法划分数据，这里我们用<font color='red'>**ID3算法**</font>：\n",
    "<br>\n",
    "<br>\n",
    "(1)The ID3 algorithm begins with the original set *S* as the root node. \n",
    "<br>\n",
    "<br> \n",
    "(2)On each iteration of the algorithm, it iterates through every unused attribute of the set *S* and calculates the entropy *H(S)* of that attribute. \n",
    "<br>\n",
    "<br>\n",
    "(3)It then selects <font color='green'>the attribute which has the smallest entropy (or largest information gain) value</font>. \n",
    "<br>\n",
    "<br>\n",
    "(4)The set *S* is then split by the selected attribute (e.g. age is less than 50, age is between 50 and 100, age is greater than 100) to produce subsets of the data. <font color='green'>Note: each split may return two or more branches</font>.\n",
    "<br>\n",
    "<br>\n",
    "(5)The algorithm continues to recurse on each subset, <font color='green'>considering only attributes never selected before</font>.\n",
    "</font>"
   ]
  },
  {
   "cell_type": "code",
   "execution_count": 1,
   "metadata": {},
   "outputs": [],
   "source": [
    "from math import log"
   ]
  },
  {
   "cell_type": "markdown",
   "metadata": {},
   "source": [
    "<font size = 3.5>\n",
    "<font color='green'>**补充一点知识**</font>：如何度量数据的无序程度（impurity）？\n",
    "<br>\n",
    "<br>\n",
    "In pure node, all the responses in one node are the same. If not so, the impurity occurs.\n",
    "<br>\n",
    "<br>\n",
    "1. Regression Tree: RSS.\n",
    "<br>\n",
    "<br>\n",
    "2. Classification Tree\n",
    "<br>\n",
    "<br>\n",
    "(0)$\\hat{p_{km}} = \\frac{1}{N_m} \\sum_{x_i \\in R_m}I(y_i = k)$, which is the proportion of class k observations in node m. And we classify observations in node m to class $k(m) = argmax_{k}\\hat{p_{km}}$.\n",
    "<br>   \n",
    "(1)Misclassification Error Rate: $\\frac{1}{N_m} \\sum_{i \\in R_m}I(y_i \\ne k(m)) = 1-\\hat{p_{km}}$.\n",
    "<br>\n",
    "<br> \n",
    "(2)Gini Index: $\\sum_{k \\ne k'}\\hat{p_{km}}\\hat{p_{k'm}} = \\sum_{k \\ne k'}\\hat{p_{km}}(1-\\hat{p_{km}})$.\n",
    "<br>\n",
    "<br>\n",
    "(3)Cross-entropy or Deviance: $-\\sum_{k \\ne k'} \\hat p_{mk} log \\hat p_{mk}$.\n",
    "<br>\n",
    "<br>    \n",
    "**Notes about Information and Entropy**:\n",
    "<br>\n",
    "<br>\n",
    "If you’re classifying something that can take on multiple values, the <font color = red>**information**</font> for symbol $x_i$ is defined as\n",
    "$$l(x_i) = -logP(x_i)$$\n",
    "where $P(x_i)$ is the probability of choosing this class.\n",
    "<br>\n",
    "To calculate  <font color = red>**entropy (also as shannon entropy)**</font>, you need the expected value of all the information of all possible values of our class. This is given by\n",
    "$$H = E[l(x_i)] = –\\sum_{i = 1}^{n} P(x_i)logP(x_i)$$\n",
    "</font>"
   ]
  },
  {
   "cell_type": "markdown",
   "metadata": {},
   "source": [
    "## 1. Create the decision tree\n",
    "### 1.1 Def the function"
   ]
  },
  {
   "cell_type": "code",
   "execution_count": 2,
   "metadata": {},
   "outputs": [],
   "source": [
    "def cal_entropy(dataset):\n",
    "    num_entries = len(dataset)\n",
    "    label_counts = {}\n",
    "    for feature_vec in dataset:                   \n",
    "        current_label = feature_vec[-1]\n",
    "        if current_label not in label_counts.keys(): \n",
    "            label_counts[current_label] = 0\n",
    "        label_counts[current_label] += 1\n",
    "    entropy = 0.0\n",
    "    for key in label_counts:\n",
    "        prob = float(label_counts[key])/num_entries\n",
    "        entropy -= prob * log(prob) \n",
    "    return entropy"
   ]
  },
  {
   "cell_type": "markdown",
   "metadata": {},
   "source": [
    "### 1.2 create data for test"
   ]
  },
  {
   "cell_type": "code",
   "execution_count": 3,
   "metadata": {},
   "outputs": [],
   "source": [
    "def create_dataset():\n",
    "    dataset = [[1, 1, 'yes'],\n",
    "               [1, 1, 'yes'],\n",
    "               [1, 0, 'no'],\n",
    "               [0, 1, 'no'],\n",
    "               [0, 1, 'no']]\n",
    "    labels = ['no surfacing','flippers']\n",
    "    return dataset, labels"
   ]
  },
  {
   "cell_type": "code",
   "execution_count": 4,
   "metadata": {},
   "outputs": [
    {
     "data": {
      "text/plain": [
       "0.6730116670092565"
      ]
     },
     "execution_count": 4,
     "metadata": {},
     "output_type": "execute_result"
    }
   ],
   "source": [
    "my_data, labels = create_dataset()\n",
    "cal_entropy(my_data)"
   ]
  },
  {
   "cell_type": "markdown",
   "metadata": {},
   "source": [
    "**The larger the entropy, the higher the impurity.**"
   ]
  },
  {
   "cell_type": "markdown",
   "metadata": {},
   "source": [
    "### 1.3 split the data set\n",
    "For our classifier algorithm to work, you need to measure the entropy, split the dataset, measure the entropy on the split sets, and see if splitting it was the right thing to do."
   ]
  },
  {
   "cell_type": "code",
   "execution_count": 5,
   "metadata": {},
   "outputs": [],
   "source": [
    "def split_dataset(dataset, axis, value):\n",
    "    ret_dataset = []\n",
    "    for feature_vec in dataset:\n",
    "        if feature_vec[axis] == value:\n",
    "            reduced_feature_vec = feature_vec[:axis]      \n",
    "            reduced_feature_vec.extend(feature_vec[axis+1: ])     #chop out axis used for splitting\n",
    "            ret_dataset.append(reduced_feature_vec)\n",
    "    return ret_dataset"
   ]
  },
  {
   "cell_type": "markdown",
   "metadata": {},
   "source": [
    "*Some coding notes*:"
   ]
  },
  {
   "cell_type": "code",
   "execution_count": 6,
   "metadata": {},
   "outputs": [
    {
     "name": "stdout",
     "output_type": "stream",
     "text": [
      "yes\n",
      "[1, 1]\n",
      "yes\n",
      "[1, 1]\n",
      "[1, 2, 3, [4, 5, 6]]\n",
      "[1, 2, 3, 4, 5, 6]\n"
     ]
    }
   ],
   "source": [
    "for feature_vec in my_data[0:2]:\n",
    "    print(feature_vec[2])\n",
    "    print(feature_vec[:2])       # select the columns before axis = 2\n",
    "\n",
    "    \n",
    "# append() vs. extend()   \n",
    "a = [1,2,3]\n",
    "b = [4,5,6]\n",
    "a.append(b)\n",
    "print(a)\n",
    "a = [1,2,3]\n",
    "a.extend(b)\n",
    "print(a)"
   ]
  },
  {
   "cell_type": "markdown",
   "metadata": {},
   "source": [
    "Let’s try out the split_dataset() function on our former simple example."
   ]
  },
  {
   "cell_type": "code",
   "execution_count": 7,
   "metadata": {},
   "outputs": [
    {
     "name": "stdout",
     "output_type": "stream",
     "text": [
      "[[1, 'yes'], [1, 'yes'], [0, 'no']]\n",
      "[[1, 'no'], [1, 'no']]\n"
     ]
    }
   ],
   "source": [
    "print(split_dataset(my_data, 0, 1))\n",
    "print(split_dataset(my_data, 0, 0))"
   ]
  },
  {
   "cell_type": "markdown",
   "metadata": {},
   "source": [
    "<font size = 3.5>**Combine the Shannon entropy calculation and the split_dataset() function to <font color = 'red'>cycle through</font> the dataset and decide which feature is the best to split on.**</font>"
   ]
  },
  {
   "cell_type": "code",
   "execution_count": 8,
   "metadata": {},
   "outputs": [],
   "source": [
    "def choose_best_feature_tosplit(dataset):\n",
    "    num_features = len(dataset[0]) - 1            #calculate the number of column and the last column is used for labels\n",
    "    base_entropy = cal_entropy(dataset)\n",
    "    best_info_gain = 0.0\n",
    "    best_feature = -1\n",
    "    for i in range(num_features):                 #iterate over all the features\n",
    "        feature_list = [example[i] for example in dataset]       #create a list of all the examples of this feature\n",
    "        unique_vals = set(feature_list)           #get a set of unique values\n",
    "        new_entropy = 0.0\n",
    "        for value in unique_vals:\n",
    "            sub_dataset = split_dataset(dataset, i, value)\n",
    "            prob = len(sub_dataset)/float(len(dataset))\n",
    "            new_entropy += prob * cal_entropy(sub_dataset)     \n",
    "        info_gain = base_entropy - new_entropy    #calculate the info gain, i.e., reduction in entropy\n",
    "        if (info_gain > best_info_gain):          #compare this to the best gain so far\n",
    "            best_info_gain = info_gain            #if better than current best, set to best\n",
    "            best_feature = i\n",
    "    return best_feature                           #returns an integer\n"
   ]
  },
  {
   "cell_type": "code",
   "execution_count": 9,
   "metadata": {},
   "outputs": [
    {
     "data": {
      "text/plain": [
       "0"
      ]
     },
     "execution_count": 9,
     "metadata": {},
     "output_type": "execute_result"
    }
   ],
   "source": [
    "choose_best_feature_tosplit(my_data)"
   ]
  },
  {
   "cell_type": "markdown",
   "metadata": {},
   "source": [
    "### 1.4 recursively building the tree\n",
    "<br>\n",
    "<font size = 3.5>Start with our dataset and split it based on the best attribute to split. (*These may not be binary trees, so you can handle more than two-way splits.*) Once split, the data will traverse down the branches of the tree to another node. This node will then split the data again. You’re going to use the principle of <font color = 'red'>**recursion**</font> to handle this.\n",
    "<br>\n",
    "<br>\n",
    "**Stopping Rule**: Run out of attributes on which to split or all the instances in a branch are the same class.\n",
    "\n",
    "即每个分支内的节点都属于同一类。\n",
    "<br>\n",
    "<br>\n",
    "We could also set a bound on the maximum number of splits we can have.\n",
    "<br>\n",
    "<br>\n",
    "If our dataset has run out of attributes but the class labels are not all the same, we must decide what to call that leaf node. In this situation, we’ll take a majority vote.\n",
    "</font>"
   ]
  },
  {
   "cell_type": "code",
   "execution_count": 10,
   "metadata": {},
   "outputs": [],
   "source": [
    "import operator"
   ]
  },
  {
   "cell_type": "code",
   "execution_count": 11,
   "metadata": {},
   "outputs": [],
   "source": [
    "# majority vote function\n",
    "def majority_count(class_list):\n",
    "    class_count={}\n",
    "    for vote in class_list:\n",
    "        if vote not in class_count.keys(): \n",
    "            class_count[vote] = 0\n",
    "        class_count[vote] += 1\n",
    "    sorted_class_count = sorted(class_count.items(), key=operator.itemgetter(1), reverse=True)\n",
    "    return sorted_class_count[0][0]\n"
   ]
  },
  {
   "cell_type": "code",
   "execution_count": 12,
   "metadata": {},
   "outputs": [],
   "source": [
    "def create_tree(dataset, labels):\n",
    "    class_list = [example[-1] for example in dataset]\n",
    "                                             # create a list of all the class labels in our dataset\n",
    "    if class_list.count(class_list[0]) == len(class_list): \n",
    "        return class_list[0]                 #stop splitting when all of the classes are equal\n",
    "    if len(dataset[0]) == 1:              \n",
    "        return majority_count(class_list)    #stop splitting when there are no more features in dataSet\n",
    "    best_feature = choose_best_feature_tosplit(dataset)\n",
    "    best_feature_label = labels[best_feature]\n",
    "    my_tree = {best_feature_label:{}}\n",
    "    del(labels[best_feature])                #split on one feature only once\n",
    "    feature_values = [example[best_feature] for example in dataset]\n",
    "    unique_vals = set(feature_values)\n",
    "    for value in unique_vals:\n",
    "        sub_labels = labels[:]               #copy all of labels, so trees don't mess up existing labels\n",
    "        my_tree[best_feature_label][value] = create_tree(split_dataset(dataset, best_feature, value), sub_labels)\n",
    "                                             #recursively use this function\n",
    "    return my_tree                    "
   ]
  },
  {
   "cell_type": "code",
   "execution_count": 13,
   "metadata": {},
   "outputs": [
    {
     "data": {
      "text/plain": [
       "3"
      ]
     },
     "execution_count": 13,
     "metadata": {},
     "output_type": "execute_result"
    }
   ],
   "source": [
    "# Notes for coding\n",
    "a = [0,0,0,1,1,1,2,2,5]\n",
    "a.count(a[0])"
   ]
  },
  {
   "cell_type": "code",
   "execution_count": 14,
   "metadata": {},
   "outputs": [
    {
     "data": {
      "text/plain": [
       "{'no surfacing': {0: 'no', 1: {'flippers': {0: 'no', 1: 'yes'}}}}"
      ]
     },
     "execution_count": 14,
     "metadata": {},
     "output_type": "execute_result"
    }
   ],
   "source": [
    "my_tree = create_tree(my_data, labels)\n",
    "\n",
    "my_tree"
   ]
  },
  {
   "cell_type": "markdown",
   "metadata": {},
   "source": [
    "## 2. Plot the decision tree\n",
    "### 2.1 Plot the node"
   ]
  },
  {
   "cell_type": "code",
   "execution_count": 15,
   "metadata": {},
   "outputs": [],
   "source": [
    "import matplotlib.pyplot as plt\n",
    "\n",
    "decision_node = dict(boxstyle=\"sawtooth\", fc=\"0.8\")\n",
    "leaf_node = dict(boxstyle=\"round4\", fc=\"0.8\")                 #定义文本框\n",
    "arrow_args = dict(arrowstyle=\"<-\")                            #定义箭头格式\n",
    "\n",
    "def plot_node(node_txt, center_pt, parent_pt, node_type):     #绘制带箭头的注解\n",
    "    create_plot.ax1.annotate(node_txt, xy=parent_pt,  xycoords='axes fraction',\n",
    "             xytext=center_pt, textcoords='axes fraction',\n",
    "             va=\"center\", ha=\"center\", bbox=node_type, arrowprops=arrow_args)"
   ]
  },
  {
   "cell_type": "code",
   "execution_count": 16,
   "metadata": {},
   "outputs": [],
   "source": [
    "def create_plot():\n",
    "    fig = plt.figure(1, facecolor='white')\n",
    "    fig.clf()           \n",
    "    axprops = dict(xticks=[], yticks=[])\n",
    "    create_plot.ax1 = plt.subplot(111, frameon=False)\n",
    "    plot_node('Decision Node', (0.5, 0.1), (0.1, 0.5), decision_node)\n",
    "    plot_node('Leaf Node', (0.8, 0.1), (0.3, 0.8), leaf_node)\n",
    "    plt.show()\n"
   ]
  },
  {
   "cell_type": "code",
   "execution_count": 17,
   "metadata": {},
   "outputs": [
    {
     "data": {
      "image/png": "[encoded data removed]",
      "text/plain": [
       "<Figure size 432x288 with 1 Axes>"
      ]
     },
     "metadata": {},
     "output_type": "display_data"
    }
   ],
   "source": [
    "create_plot()"
   ]
  },
  {
   "cell_type": "markdown",
   "metadata": {},
   "source": [
    "### 2.2 Identifying the number of leaves in a tree and the depth"
   ]
  },
  {
   "cell_type": "code",
   "execution_count": 18,
   "metadata": {},
   "outputs": [],
   "source": [
    "# 获取叶节点的数目\n",
    "\n",
    "def get_leaf_num(my_tree):\n",
    "    leaf_num = 0\n",
    "    first_str = list(my_tree.keys())[0]\n",
    "    second_dict = my_tree[first_str]\n",
    "    for key in second_dict.keys():\n",
    "        if type(second_dict[key]).__name__=='dict':\n",
    "            #test to see if the nodes are dictonaires, if not they are leaf nodes\n",
    "            leaf_num += get_leaf_num(second_dict[key])\n",
    "        else:   \n",
    "            leaf_num += 1\n",
    "    return leaf_num\n"
   ]
  },
  {
   "cell_type": "code",
   "execution_count": 19,
   "metadata": {},
   "outputs": [],
   "source": [
    "# 获取树的层数\n",
    "\n",
    "def get_tree_depth(my_tree):\n",
    "    max_depth = 0\n",
    "    first_str = list(my_tree.keys())[0]\n",
    "    second_dict = my_tree[first_str]\n",
    "    for key in second_dict.keys():\n",
    "        if type(second_dict[key]).__name__=='dict':\n",
    "            #test to see if the nodes are dictonaires, if not they are leaf nodes\n",
    "            this_depth = 1 + get_tree_depth(second_dict[key])\n",
    "        else:   \n",
    "            this_depth = 1\n",
    "        if this_depth > max_depth: \n",
    "            max_depth = this_depth\n",
    "    return max_depth"
   ]
  },
  {
   "cell_type": "code",
   "execution_count": 20,
   "metadata": {},
   "outputs": [],
   "source": [
    "# 预先存储树信息用于检测\n",
    "\n",
    "def retrieve_tree(i):\n",
    "    list_of_trees =[{'no surfacing': {0: 'no', 1: {'flippers': {0: 'no', 1: 'yes'}}}},\n",
    "                  {'no surfacing': {0: 'no', 1: {'flippers': {0: {'head': {0: 'no', 1: 'yes'}}, 1: 'no'}}}}\n",
    "                  ]\n",
    "    return list_of_trees[i]"
   ]
  },
  {
   "cell_type": "code",
   "execution_count": 21,
   "metadata": {},
   "outputs": [
    {
     "name": "stdout",
     "output_type": "stream",
     "text": [
      "{'no surfacing': {0: 'no', 1: {'flippers': {0: 'no', 1: 'yes'}}}}\n",
      "{'no surfacing': {0: 'no', 1: {'flippers': {0: {'head': {0: 'no', 1: 'yes'}}, 1: 'no'}}}}\n",
      "3\n",
      "4\n",
      "2\n",
      "3\n"
     ]
    }
   ],
   "source": [
    "# 用预存的树信息进行test\n",
    "\n",
    "print(retrieve_tree(0))\n",
    "print(retrieve_tree(1))\n",
    "\n",
    "print(get_leaf_num(retrieve_tree(0)))\n",
    "print(get_leaf_num(retrieve_tree(1)))\n",
    "print(get_tree_depth(retrieve_tree(0)))\n",
    "print(get_tree_depth(retrieve_tree(1)))"
   ]
  },
  {
   "cell_type": "markdown",
   "metadata": {},
   "source": [
    "### 2.3 Plot the decision tree"
   ]
  },
  {
   "cell_type": "code",
   "execution_count": 22,
   "metadata": {},
   "outputs": [],
   "source": [
    "def plot_mid_text(cntr_pt, parent_pt, txt_string):     # 计算父节点与子节点的中间位置，并添加文本信息\n",
    "    x_mid = (parent_pt[0]-cntr_pt[0])/2.0 + cntr_pt[0]\n",
    "    y_mid = (parent_pt[1]-cntr_pt[1])/2.0 + cntr_pt[1]\n",
    "    create_plot.ax1.text(x_mid, y_mid, txt_string, \n",
    "                         va=\"center\", ha=\"center\", rotation=30)\n",
    "\n",
    "\n",
    "def plot_tree(my_tree, parent_pt, node_txt):           # if the first key tells you what feat was split on\n",
    "    leaf_num = get_leaf_num(my_tree)                   # width of this tree\n",
    "    depth = get_tree_depth(my_tree)                    # depth of this tree\n",
    "    first_str = list(my_tree.keys())[0]                # the text label for this node should be this\n",
    "    \n",
    "    cntr_pt = (plot_tree.x_off + (1.0 + float(leaf_num))/2.0/plot_tree.width, plot_tree.y_off)\n",
    "    plot_mid_text(cntr_pt, parent_pt, node_txt)\n",
    "    plot_node(first_str, cntr_pt, parent_pt, decision_node)\n",
    "    second_dict = my_tree[first_str]\n",
    "    plot_tree.y_off = plot_tree.y_off - 1.0/plot_tree.depth\n",
    "               \n",
    "    for key in list(second_dict.keys()):\n",
    "        if type(second_dict[key]).__name__=='dict':     \n",
    "            #test to see if the nodes are dictonaires, if not they are leaf nodes   \n",
    "            plot_tree(second_dict[key], cntr_pt, str(key))             #recursion\n",
    "        else:   \n",
    "            #it's a leaf node print the leaf node\n",
    "            plot_tree.x_off = plot_tree.x_off + 1.0/plot_tree.width\n",
    "            plot_node(second_dict[key], (plot_tree.x_off, plot_tree.y_off), cntr_pt, leaf_node)\n",
    "            plot_mid_text((plot_tree.x_off, plot_tree.y_off), cntr_pt, str(key))\n",
    "    plot_tree.y_off = plot_tree.y_off + 1.0/plot_tree.depth\n",
    "\n",
    "               \n",
    "def create_plot(in_tree):                             # 对之前的create_plot进行修改\n",
    "    fig = plt.figure(1, facecolor='white')\n",
    "    fig.clf()\n",
    "    axprops = dict(xticks=[], yticks=[])\n",
    "    create_plot.ax1 = plt.subplot(111, frameon=False, **axprops)       #no ticks\n",
    "\n",
    "    plot_tree.width = float(get_leaf_num(in_tree))\n",
    "    plot_tree.depth = float(get_tree_depth(in_tree))\n",
    "    plot_tree.x_off = -0.5/plot_tree.width            # x轴方向上是从 x=-0.5 开始增加\n",
    "    plot_tree.y_off = 1.0                             # y轴方向上是从 y=1 开始减少\n",
    "    plot_tree(in_tree, (0.5,1.0), '')\n",
    "    plt.show()"
   ]
  },
  {
   "cell_type": "code",
   "execution_count": 23,
   "metadata": {},
   "outputs": [
    {
     "data": {
      "image/png": "[encoded data removed]",
      "text/plain": [
       "<Figure size 432x288 with 1 Axes>"
      ]
     },
     "metadata": {},
     "output_type": "display_data"
    }
   ],
   "source": [
    "create_plot(retrieve_tree(0))"
   ]
  },
  {
   "cell_type": "code",
   "execution_count": 24,
   "metadata": {},
   "outputs": [
    {
     "data": {
      "image/png": "[encoded data removed]",
      "text/plain": [
       "<Figure size 432x288 with 1 Axes>"
      ]
     },
     "metadata": {},
     "output_type": "display_data"
    }
   ],
   "source": [
    "create_plot(retrieve_tree(1))"
   ]
  },
  {
   "cell_type": "markdown",
   "metadata": {},
   "source": [
    "## 3. Testing and storing the classifier\n",
    "### 3.1 Test: using the tree for classification"
   ]
  },
  {
   "cell_type": "code",
   "execution_count": 25,
   "metadata": {},
   "outputs": [],
   "source": [
    "# 在执行数据分类时，程序比较测试数据与决策树上的数值\n",
    "# Do this recursively until it hits a leaf node.\n",
    "# Then, it will stop because it has arrived at a conclusion.\n",
    "\n",
    "def classify(input_tree, feature_labels, test_vec):\n",
    "    first_str = list(input_tree.keys())[0]\n",
    "    second_dict = input_tree[first_str]\n",
    "    feature_index = feature_labels.index(first_str)\n",
    "    key = test_vec[feature_index]\n",
    "    feature_value = second_dict[key]\n",
    "    if isinstance(feature_value, dict): \n",
    "        class_label = classify(feature_value, feature_labels, test_vec)\n",
    "    else: \n",
    "        class_label = feature_value\n",
    "    return class_label\n"
   ]
  },
  {
   "cell_type": "code",
   "execution_count": 26,
   "metadata": {},
   "outputs": [
    {
     "name": "stdout",
     "output_type": "stream",
     "text": [
      "no\n",
      "yes\n",
      "no\n",
      "no\n"
     ]
    }
   ],
   "source": [
    "# test simple example\n",
    "\n",
    "my_data, labels = create_dataset()\n",
    "\n",
    "print(classify(retrieve_tree(0), labels, [0,1]))\n",
    "print(classify(retrieve_tree(0), labels, [1,1]))\n",
    "\n",
    "print(classify(retrieve_tree(1), labels, [0,1]))\n",
    "print(classify(retrieve_tree(1), labels, [1,1]))"
   ]
  },
  {
   "cell_type": "markdown",
   "metadata": {},
   "source": [
    "### 3.2 Use: persisting the decision tree"
   ]
  },
  {
   "cell_type": "code",
   "execution_count": 27,
   "metadata": {},
   "outputs": [],
   "source": [
    "def store_tree(input_tree, filename):\n",
    "    import pickle\n",
    "    fw = open(filename, 'w')\n",
    "    for key, value in input_tree.items():\n",
    "        fw.write('%s:%s' % (key, value))\n",
    "    fw.close()\n",
    "    \n",
    "    \n",
    "def grab_tree(filename):\n",
    "    fr = open(filename)\n",
    "    data = dict()\n",
    "    for item in fr:\n",
    "        if ':' in item:\n",
    "            key, value = item.split(':', 1)\n",
    "            data[key]=value\n",
    "            return data\n",
    "        else:\n",
    "            pass    # deal with bad lines of text here\n"
   ]
  },
  {
   "cell_type": "code",
   "execution_count": 28,
   "metadata": {},
   "outputs": [
    {
     "data": {
      "text/plain": [
       "{'no surfacing': \"{0: 'no', 1: {'flippers': {0: 'no', 1: 'yes'}}}\"}"
      ]
     },
     "execution_count": 28,
     "metadata": {},
     "output_type": "execute_result"
    }
   ],
   "source": [
    "store_tree(my_tree,'/Users/elinabian 1/Desktop/CU-life/summerlearning/mlinaction/dataset/classifierStorage.txt')\n",
    "grab_tree('/Users/elinabian 1/Desktop/CU-life/summerlearning/mlinaction/dataset/classifierStorage.txt')"
   ]
  },
  {
   "cell_type": "markdown",
   "metadata": {},
   "source": [
    "## 4. Example: using decision trees to predict contact lens type (预测隐形眼镜类型)"
   ]
  },
  {
   "cell_type": "code",
   "execution_count": 29,
   "metadata": {},
   "outputs": [
    {
     "data": {
      "text/plain": [
       "{'tearRate': {'reduced': 'no lenses',\n",
       "  'normal': {'astigmatic': {'no': {'age': {'pre': 'soft',\n",
       "      'young': 'soft',\n",
       "      'presbyopic': {'prescript': {'myope': 'no lenses', 'hyper': 'soft'}}}},\n",
       "    'yes': {'prescript': {'myope': 'hard',\n",
       "      'hyper': {'age': {'pre': 'no lenses',\n",
       "        'young': 'hard',\n",
       "        'presbyopic': 'no lenses'}}}}}}}}"
      ]
     },
     "execution_count": 29,
     "metadata": {},
     "output_type": "execute_result"
    }
   ],
   "source": [
    "fr = open('/Users/elinabian 1/Desktop/CU-life/summerlearning/mlinaction/dataset/lenses.txt')\n",
    "lenses=[inst.strip().split('\\t') for inst in fr.readlines()]\n",
    "lenses_labels=['age', 'prescript', 'astigmatic', 'tearRate']\n",
    "lenses_tree = create_tree(lenses, lenses_labels)\n",
    "lenses_tree"
   ]
  },
  {
   "cell_type": "code",
   "execution_count": 30,
   "metadata": {},
   "outputs": [
    {
     "data": {
      "image/png": "[encoded data removed]",
      "text/plain": [
       "<Figure size 432x288 with 1 Axes>"
      ]
     },
     "metadata": {},
     "output_type": "display_data"
    }
   ],
   "source": [
    "create_plot(lenses_tree)"
   ]
  },
  {
   "cell_type": "markdown",
   "metadata": {},
   "source": [
    "<font size = 3.5>This decision tree probably matches our data too well, which is known as **overfitting**. In order to reduce the problem, we can prune the tree, that is to go through and remove some leaves. If a leaf node adds only a little information, it will be cut off and merged with another leaf.\n",
    "<br>\n",
    "<br>\n",
    "The algorithm we used in this chapter, ID3, is good but not the best. ID3 can’t handle **numeric values**. We could use continuous values by quantizing them into discrete bins, but ID3 suffers from other problems if we have too many splits.</font>"
   ]
  }
 ],
 "metadata": {
  "kernelspec": {
   "display_name": "Python 3",
   "language": "python",
   "name": "python3"
  },
  "language_info": {
   "codemirror_mode": {
    "name": "ipython",
    "version": 3
   },
   "file_extension": ".py",
   "mimetype": "text/x-python",
   "name": "python",
   "nbconvert_exporter": "python",
   "pygments_lexer": "ipython3",
   "version": "3.6.5"
  }
 },
 "nbformat": 4,
 "nbformat_minor": 2
}
