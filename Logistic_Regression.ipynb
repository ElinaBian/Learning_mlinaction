{
 "cells": [
  {
   "cell_type": "markdown",
   "metadata": {},
   "source": [
    "# Classification Problem -- Logistic Regression\n",
    "\n",
    "<font color = 'green'>What happens in logistic regression is we have a bunch of data, and with the data we try to build an equation to do classification for us.</font> The regression aspects means that we try to find a best-fit set of parameters.\n",
    "\n",
    "Finding the best fit is similar to regression, and in this method it’s how we train our classifier. We’ll use **optimization algorithms to find these best-fit parameters**. This best-fit stuff is where the name regression comes from. \n"
   ]
  },
  {
   "cell_type": "markdown",
   "metadata": {},
   "source": [
    "## 1. Classification with logistic regression and the sigmoid function: a tractable step function\n",
    "\n",
    "We want an equation that could give all of features and predict the class. In the two-class case, the function will spit out a 0 or a 1, called Heaviside step function or sometimes just the step function. \n",
    "\n",
    "The problem with the Heaviside step function is that at the point where it steps from 0 to 1, it does so instantly. This instantaneous step is sometimes difficult to deal with. There’s another function that behaves in a similar fashion, but it’s much easier to deal with mathematically. This function is called the <font color = 'red'>**sigmoid**</font>. The sigmoid is given by the following equation:\n",
    "<font color = 'red'>$$\\sigma(z) = \\frac{1}{1+e^{-z}}$$</font>\n",
    "\n",
    "图像是y轴上缓缓从0变成了1，x=0时，y=0.5。\n",
    "\n",
    "For the logistic regression classifier, we’ll <font color = 'green'>take our features and multiply each one by a weight and then add them up as z</font>. This result will be put into the sigmoid, and we’ll <font color = 'green'>get a number between 0 and 1 as $\\sigma(z)$</font>. Anything <font color = 'green'>above 0.5 we’ll classify as 1</font>, and anything <font color = 'green'>below 0.5 we’ll classify as a 0</font>. You can also think of logistic regression as a probability estimate."
   ]
  },
  {
   "cell_type": "markdown",
   "metadata": {},
   "source": [
    "## 2. Using optimization to find the best regression coefficients\n",
    "<br>\n",
    "<font size = 3.5>The input to the sigmoid function described will be z, where z is given by the following:\n",
    "$$z = w_0x_0 + w_1x_1 +w_2x_2 +...+ w_nx_n$$\n",
    "In vector notation we can write this as <font color = 'red'>$z=w^Tx$</font>.\n",
    "<br><br>\n",
    "The vector x is our input data, and we want to find the best coefficients w, so that this classifier will be as successful as possible. In order to do that, we need to consider some ideas from optimization theory.\n",
    "</font>\n",
    "\n",
    "### 2.1 Gradient ascent 梯度上升\n",
    "\n",
    "The first optimization algorithm we’re going to look at is called gradient ascent. Gradient ascent is based on the idea that if we want to find the maximum point on a function, then **the best way to move is in the direction of the gradient**. \n",
    "<br><br>\n",
    "We write the gradient with the symbol $\\bigtriangledown$ and the gradient of a function $f(x,y)$ is given by the equation\n",
    "<br><br>\n",
    "$$\\bigtriangledown f(x,y) = \\left(\\begin{array}{c} \\frac{\\partial f(x,y)}{\\partial x} \\\\ \\frac{\\partial f(x,y)}{\\partial y} \\end{array}\\right)$$\n",
    "<br><br>\n",
    "The gradient ascent algorithm takes a step in the direction given by the gradient. The gradient operator will always point in the direction of the greatest increase. We’ve talked about direction, but I didn’t mention anything to do with **magnitude of movement**(移动量). The magnitude, or step size, we’ll take is given by the parameter $\\alpha$. In vector notation we can write the **gradient ascent algorithm** as\n",
    "<br><br>\n",
    "<font color = 'red'>$$w := w + \\alpha \\bigtriangledown_w f(w)$$</font>"
   ]
  },
  {
   "cell_type": "markdown",
   "metadata": {},
   "source": [
    "### 2.2 Train: using gradient ascent to find the best parameters\n",
    "\n",
    "There are 100 data points and each point has two numeric features: <font color = 'blue'>$X_1$ and $X_2$</font>. We’ll try to use gradient ascent to fit the best parameters for the logistic regression model to our data. In addition, this sets the value of <font color = 'blue'>$X_0$</font> to 1.0, which is a convention we use.\n",
    "\n",
    "1.Start with the weights all set to 1.\n",
    "\n",
    "2.Repeat R number of times: \n",
    "\n",
    "(1)Calculate the gradient of the entire dataset; \n",
    "\n",
    "(2)Update the weights vector by alpha*gradient;\n",
    "\n",
    "(3)Return the weights vector.\n"
   ]
  },
  {
   "cell_type": "code",
   "execution_count": 1,
   "metadata": {},
   "outputs": [],
   "source": [
    "import numpy as np\n",
    "\n",
    "def load_dataset():\n",
    "    data_mat = []\n",
    "    label_mat = []\n",
    "    fr = open('/Users/jbian/Desktop/CU-life/summerlearning/mlinaction/dataset/testSet_chap5.txt')\n",
    "    for line in fr.readlines():\n",
    "        line_arr = line.strip().split()\n",
    "        data_mat.append([1.0, float(line_arr[0]), float(line_arr[1])])  #X0 was set to 1.0\n",
    "        label_mat.append(int(line_arr[2]))\n",
    "    return data_mat, label_mat\n",
    "\n",
    "\n",
    "def sigmoid(x):\n",
    "    return 1.0/(1+np.exp(-x))\n",
    "\n",
    "\n",
    "def grad_ascent(data_mat, class_labels):\n",
    "    data_matrix = np.mat(data_mat)                 #convert to NumPy matrix\n",
    "    label_mat = np.mat(class_labels).transpose()   #convert to NumPy matrix\n",
    "    m,n = np.shape(data_matrix)\n",
    "    alpha = 0.001\n",
    "    max_cycles = 500\n",
    "    weights = np.ones((n,1))\n",
    "    for k in range(max_cycles):                 #heavy on matrix operations\n",
    "        h = sigmoid(data_matrix*weights)        #matrix multiplication\n",
    "                                                #如果之前没有变成matrix，则*代表逐个元素相乘，dot才代表矩阵乘\n",
    "        error = (label_mat - h)                 #vector subtraction\n",
    "        weights = weights + alpha * data_matrix.transpose()* error      #matrix multiplication\n",
    "    return weights\n"
   ]
  },
  {
   "cell_type": "code",
   "execution_count": 2,
   "metadata": {
    "scrolled": false
   },
   "outputs": [
    {
     "name": "stdout",
     "output_type": "stream",
     "text": [
      "<_io.TextIOWrapper name='/Users/jbian/Desktop/CU-life/summerlearning/mlinaction/dataset/testSet_chap5.txt' mode='r' encoding='UTF-8'>\n",
      "-0.017612\t14.053064\t0\n",
      "\n",
      "-1.395634\t4.662541\t1\n",
      "\n",
      "-0.752157\t6.538620\t0\n",
      "\n",
      "-1.322371\t7.152853\t0\n",
      "\n",
      "0.423363\t11.054677\t0\n",
      "\n",
      "0.406704\t7.067335\t1\n",
      "\n",
      "0.667394\t12.741452\t0\n",
      "\n",
      "-2.460150\t6.866805\t1\n",
      "\n",
      "0.569411\t9.548755\t0\n",
      "\n",
      "-0.026632\t10.427743\t0\n",
      "\n",
      "0.850433\t6.920334\t1\n",
      "\n",
      "1.347183\t13.175500\t0\n",
      "\n",
      "1.176813\t3.167020\t1\n",
      "\n",
      "-1.781871\t9.097953\t0\n",
      "\n",
      "-0.566606\t5.749003\t1\n",
      "\n",
      "0.931635\t1.589505\t1\n",
      "\n",
      "-0.024205\t6.151823\t1\n",
      "\n",
      "-0.036453\t2.690988\t1\n",
      "\n",
      "-0.196949\t0.444165\t1\n",
      "\n",
      "1.014459\t5.754399\t1\n",
      "\n",
      "1.985298\t3.230619\t1\n",
      "\n",
      "-1.693453\t-0.557540\t1\n",
      "\n",
      "-0.576525\t11.778922\t0\n",
      "\n",
      "-0.346811\t-1.678730\t1\n",
      "\n",
      "-2.124484\t2.672471\t1\n",
      "\n",
      "1.217916\t9.597015\t0\n",
      "\n",
      "-0.733928\t9.098687\t0\n",
      "\n",
      "-3.642001\t-1.618087\t1\n",
      "\n",
      "0.315985\t3.523953\t1\n",
      "\n",
      "1.416614\t9.619232\t0\n",
      "\n",
      "-0.386323\t3.989286\t1\n",
      "\n",
      "0.556921\t8.294984\t1\n",
      "\n",
      "1.224863\t11.587360\t0\n",
      "\n",
      "-1.347803\t-2.406051\t1\n",
      "\n",
      "1.196604\t4.951851\t1\n",
      "\n",
      "0.275221\t9.543647\t0\n",
      "\n",
      "0.470575\t9.332488\t0\n",
      "\n",
      "-1.889567\t9.542662\t0\n",
      "\n",
      "-1.527893\t12.150579\t0\n",
      "\n",
      "-1.185247\t11.309318\t0\n",
      "\n",
      "-0.445678\t3.297303\t1\n",
      "\n",
      "1.042222\t6.105155\t1\n",
      "\n",
      "-0.618787\t10.320986\t0\n",
      "\n",
      "1.152083\t0.548467\t1\n",
      "\n",
      "0.828534\t2.676045\t1\n",
      "\n",
      "-1.237728\t10.549033\t0\n",
      "\n",
      "-0.683565\t-2.166125\t1\n",
      "\n",
      "0.229456\t5.921938\t1\n",
      "\n",
      "-0.959885\t11.555336\t0\n",
      "\n",
      "0.492911\t10.993324\t0\n",
      "\n",
      "0.184992\t8.721488\t0\n",
      "\n",
      "-0.355715\t10.325976\t0\n",
      "\n",
      "-0.397822\t8.058397\t0\n",
      "\n",
      "0.824839\t13.730343\t0\n",
      "\n",
      "1.507278\t5.027866\t1\n",
      "\n",
      "0.099671\t6.835839\t1\n",
      "\n",
      "-0.344008\t10.717485\t0\n",
      "\n",
      "1.785928\t7.718645\t1\n",
      "\n",
      "-0.918801\t11.560217\t0\n",
      "\n",
      "-0.364009\t4.747300\t1\n",
      "\n",
      "-0.841722\t4.119083\t1\n",
      "\n",
      "0.490426\t1.960539\t1\n",
      "\n",
      "-0.007194\t9.075792\t0\n",
      "\n",
      "0.356107\t12.447863\t0\n",
      "\n",
      "0.342578\t12.281162\t0\n",
      "\n",
      "-0.810823\t-1.466018\t1\n",
      "\n",
      "2.530777\t6.476801\t1\n",
      "\n",
      "1.296683\t11.607559\t0\n",
      "\n",
      "0.475487\t12.040035\t0\n",
      "\n",
      "-0.783277\t11.009725\t0\n",
      "\n",
      "0.074798\t11.023650\t0\n",
      "\n",
      "-1.337472\t0.468339\t1\n",
      "\n",
      "-0.102781\t13.763651\t0\n",
      "\n",
      "-0.147324\t2.874846\t1\n",
      "\n",
      "0.518389\t9.887035\t0\n",
      "\n",
      "1.015399\t7.571882\t0\n",
      "\n",
      "-1.658086\t-0.027255\t1\n",
      "\n",
      "1.319944\t2.171228\t1\n",
      "\n",
      "2.056216\t5.019981\t1\n",
      "\n",
      "-0.851633\t4.375691\t1\n",
      "\n",
      "-1.510047\t6.061992\t0\n",
      "\n",
      "-1.076637\t-3.181888\t1\n",
      "\n",
      "1.821096\t10.283990\t0\n",
      "\n",
      "3.010150\t8.401766\t1\n",
      "\n",
      "-1.099458\t1.688274\t1\n",
      "\n",
      "-0.834872\t-1.733869\t1\n",
      "\n",
      "-0.846637\t3.849075\t1\n",
      "\n",
      "1.400102\t12.628781\t0\n",
      "\n",
      "1.752842\t5.468166\t1\n",
      "\n",
      "0.078557\t0.059736\t1\n",
      "\n",
      "0.089392\t-0.715300\t1\n",
      "\n",
      "1.825662\t12.693808\t0\n",
      "\n",
      "0.197445\t9.744638\t0\n",
      "\n",
      "0.126117\t0.922311\t1\n",
      "\n",
      "-0.679797\t1.220530\t1\n",
      "\n",
      "0.677983\t2.556666\t1\n",
      "\n",
      "0.761349\t10.693862\t0\n",
      "\n",
      "-2.168791\t0.143632\t1\n",
      "\n",
      "1.388610\t9.341997\t0\n",
      "\n",
      "0.317029\t14.739025\t0\n",
      "\n"
     ]
    }
   ],
   "source": [
    "# 理解一下数据格式\n",
    "\n",
    "fr = open('/Users/jbian/Desktop/CU-life/summerlearning/mlinaction/dataset/testSet_chap5.txt')\n",
    "print(fr)\n",
    "\n",
    "for line in fr.readlines():\n",
    "    print(line)"
   ]
  },
  {
   "cell_type": "code",
   "execution_count": 3,
   "metadata": {
    "scrolled": false
   },
   "outputs": [
    {
     "name": "stdout",
     "output_type": "stream",
     "text": [
      "[[1.0, -0.017612, 14.053064], [1.0, -1.395634, 4.662541], [1.0, -0.752157, 6.53862], [1.0, -1.322371, 7.152853], [1.0, 0.423363, 11.054677], [1.0, 0.406704, 7.067335], [1.0, 0.667394, 12.741452], [1.0, -2.46015, 6.866805], [1.0, 0.569411, 9.548755], [1.0, -0.026632, 10.427743]]\n",
      "[0, 1, 0, 0, 0, 1, 0, 1, 0, 0]\n",
      "[[ 1.       -0.017612 14.053064]\n",
      " [ 1.       -1.395634  4.662541]\n",
      " [ 1.       -0.752157  6.53862 ]\n",
      " [ 1.       -1.322371  7.152853]\n",
      " [ 1.        0.423363 11.054677]\n",
      " [ 1.        0.406704  7.067335]\n",
      " [ 1.        0.667394 12.741452]\n",
      " [ 1.       -2.46015   6.866805]\n",
      " [ 1.        0.569411  9.548755]\n",
      " [ 1.       -0.026632 10.427743]]\n",
      "(100, 3)\n",
      "(100, 1)\n"
     ]
    }
   ],
   "source": [
    "# load dataset\n",
    "data_arr, label_mat = load_dataset()\n",
    "print(data_arr[:10])\n",
    "print(label_mat[:10])\n",
    "\n",
    "\n",
    "# 理解一下Numpy matrix\n",
    "data_matrix = np.mat(data_arr)\n",
    "print(data_matrix[:10])\n",
    "print(np.shape(data_matrix))\n",
    "label_mat = np.mat(label_mat).transpose() \n",
    "print(np.shape(label_mat))"
   ]
  },
  {
   "cell_type": "code",
   "execution_count": 4,
   "metadata": {
    "scrolled": true
   },
   "outputs": [
    {
     "name": "stdout",
     "output_type": "stream",
     "text": [
      "[[ 4.12414349]\n",
      " [ 0.48007329]\n",
      " [-0.6168482 ]]\n"
     ]
    }
   ],
   "source": [
    "# calculate weights\n",
    "data_arr, label_mat = load_dataset()\n",
    "grad_ascent(data_arr, label_mat)\n",
    "weights = grad_ascent(data_arr, label_mat)\n",
    "print(weights)"
   ]
  },
  {
   "cell_type": "markdown",
   "metadata": {},
   "source": [
    "### 2.3 Analyze: plotting the decision boundary"
   ]
  },
  {
   "cell_type": "code",
   "execution_count": 5,
   "metadata": {},
   "outputs": [],
   "source": [
    "def plot_best_fit(weights):\n",
    "    import matplotlib.pyplot as plt\n",
    "    data_mat, label_mat = load_dataset()\n",
    "    weights = np.asarray(weights)         # return self as an ndarray object; equivalent to np.asarray(self).\n",
    "    data_arr = np.array(data_mat)\n",
    "    n = np.shape(data_arr)[0] \n",
    "    x_cord1 = []\n",
    "    y_cord1 = []\n",
    "    x_cord2 = []\n",
    "    y_cord2 = []\n",
    "    for i in range(n):\n",
    "        if int(label_mat[i])== 1:    # class 1--red, mark--s; class 2--green\n",
    "            x_cord1.append(data_arr[i,1])\n",
    "            y_cord1.append(data_arr[i,2])\n",
    "        else:\n",
    "            x_cord2.append(data_arr[i,1])\n",
    "            y_cord2.append(data_arr[i,2])\n",
    "    fig = plt.figure()\n",
    "    ax = fig.add_subplot(111)\n",
    "    ax.scatter(x_cord1, y_cord1, s=30, c='red', marker='s')\n",
    "    ax.scatter(x_cord2, y_cord2, s=30, c='green')\n",
    "    x = np.arange(-3.0, 3.0, 0.1)\n",
    "    y = (-weights[0]-weights[1]*x)/weights[2]\n",
    "    ax.plot(x, y)\n",
    "    plt.xlabel('X1'); plt.ylabel('X2')\n",
    "    plt.show()\n",
    "\n"
   ]
  },
  {
   "cell_type": "code",
   "execution_count": 6,
   "metadata": {},
   "outputs": [
    {
     "data": {
      "text/plain": [
       "<Figure size 640x480 with 1 Axes>"
      ]
     },
     "metadata": {},
     "output_type": "display_data"
    }
   ],
   "source": [
    "plot_best_fit(weights)"
   ]
  },
  {
   "cell_type": "code",
   "execution_count": 7,
   "metadata": {},
   "outputs": [
    {
     "data": {
      "text/plain": [
       "array([-1.00000000e+00, -9.00000000e-01, -8.00000000e-01, -7.00000000e-01,\n",
       "       -6.00000000e-01, -5.00000000e-01, -4.00000000e-01, -3.00000000e-01,\n",
       "       -2.00000000e-01, -1.00000000e-01, -2.22044605e-16,  1.00000000e-01,\n",
       "        2.00000000e-01,  3.00000000e-01,  4.00000000e-01,  5.00000000e-01,\n",
       "        6.00000000e-01,  7.00000000e-01,  8.00000000e-01,  9.00000000e-01])"
      ]
     },
     "execution_count": 7,
     "metadata": {},
     "output_type": "execute_result"
    }
   ],
   "source": [
    "# 关于np.arange\n",
    "\n",
    "x = np.arange(-1, 1, 0.1)\n",
    "x"
   ]
  },
  {
   "cell_type": "markdown",
   "metadata": {},
   "source": [
    "### 2.4 Train: Stochastic Gradient Ascent 随机梯度上升\n",
    "The previous optimization algorithm, gradient ascent, uses the whole dataset on each update. This was fine with 100 examples, but with billions of data points containing thousands of features. An alternative to this method is to update the weights using **only one instance at a time**. (只用一个样本点更新回归系数)\n",
    "\n",
    "Stochastic gradient ascent is an example of an online learning algorithm. This is known as **online**(在线学习) because we can incrementally update the classifier as new data comes in rather than all at once. The all-at-once method is known as <font color = 'red'>**batch processing**(批处理)</font>.\n"
   ]
  },
  {
   "cell_type": "code",
   "execution_count": 8,
   "metadata": {},
   "outputs": [],
   "source": [
    "def stoc_grad_ascent(data_mat, class_labels):\n",
    "    m,n = np.shape(data_mat)\n",
    "    alpha = 0.01\n",
    "    weights = np.ones(n)   #initialize to all ones\n",
    "    for i in range(m):\n",
    "        h = sigmoid(sum(data_mat[i]*weights))\n",
    "        error = class_labels[i] - h\n",
    "        weights = weights + alpha * error * np.asarray(data_mat[i])\n",
    "    return weights"
   ]
  },
  {
   "cell_type": "code",
   "execution_count": 9,
   "metadata": {},
   "outputs": [
    {
     "name": "stdout",
     "output_type": "stream",
     "text": [
      "[ 1.01702007  0.85914348 -0.36579921]\n"
     ]
    },
    {
     "data": {
      "image/png": "[encoded data removed]",
      "text/plain": [
       "<Figure size 432x288 with 1 Axes>"
      ]
     },
     "metadata": {},
     "output_type": "display_data"
    }
   ],
   "source": [
    "data_arr, label_mat = load_dataset()\n",
    "weights = stoc_grad_ascent(data_arr, label_mat)\n",
    "print(weights)\n",
    "plot_best_fit(weights)"
   ]
  },
  {
   "cell_type": "markdown",
   "metadata": {},
   "source": [
    "We could see that the result of classification is not as good as before. However, directly comparing the stochastic gradient ascent algorithm to the gradient ascent is unfair, because the gradient ascent code had 500 iterations over the entire dataset.\n",
    "\n",
    "Now, we do some changes to present SDG."
   ]
  },
  {
   "cell_type": "code",
   "execution_count": 10,
   "metadata": {},
   "outputs": [],
   "source": [
    "def stoc_grad_ascent_iter(data_mat, class_labels, num_iter=150):\n",
    "    m,n = np.shape(data_mat)\n",
    "    weights = np.ones(n)   #initialize to all ones\n",
    "    for j in range(num_iter):\n",
    "        data_index = list(range(m))\n",
    "        for i in range(m):\n",
    "            alpha = 4/(1.0+j+i)+0.0001                                #alpha decreases with iteration, does not \n",
    "            rand_index = int(np.random.uniform(0,len(data_index)))    #go to 0 because of the constant\n",
    "            h = sigmoid(sum(data_mat[rand_index]*weights))\n",
    "            error = class_labels[rand_index] - h\n",
    "            weights = np.asarray(weights)\n",
    "            weights = weights + alpha * error * np.asarray(data_mat[rand_index])\n",
    "            del(data_index[rand_index])\n",
    "    return weights"
   ]
  },
  {
   "cell_type": "markdown",
   "metadata": {},
   "source": [
    "The first thing to note is that alpha changes on each iteration. Alpha decreases as the number of iterations increases, but it never reaches 0 because there’s a constant term so that after a large number of cycles, new data still has some impact. \n",
    "\n",
    "Alpha function is that it decreases by 1/(j+i). Notice that j is the index of the number of times you go through the dataset, and i is the index of the example in the training set. This gives an alpha that isn’t strictly decreasing when j<<max(i). \n",
    "\n",
    "The second improvement is that we randomly select each instance to use in updating the weights. This will reduce the periodic variations(周期性波动). The way you randomly select a value from a list of integers and then delete it from the list."
   ]
  },
  {
   "cell_type": "code",
   "execution_count": 11,
   "metadata": {},
   "outputs": [
    {
     "name": "stdout",
     "output_type": "stream",
     "text": [
      "[13.75567215  0.84235181 -2.07455889]\n"
     ]
    },
    {
     "data": {
      "image/png": "[encoded data removed]",
      "text/plain": [
       "<Figure size 432x288 with 1 Axes>"
      ]
     },
     "metadata": {},
     "output_type": "display_data"
    }
   ],
   "source": [
    "data_arr, label_mat = load_dataset()\n",
    "weights = stoc_grad_ascent_iter(data_arr, label_mat)\n",
    "print(weights)\n",
    "plot_best_fit(weights)"
   ]
  },
  {
   "cell_type": "markdown",
   "metadata": {},
   "source": [
    "## 3. Example: estimating horse fatalities from colic 从疝气病症预测病马的死亡率\n",
    "### 3.1 Prepare: dealing with missing values in the data\n",
    "\n",
    "--Use the feature’s mean value from all the available data.\n",
    "\n",
    "--Fill in the unknown with a special value like -1.\n",
    "\n",
    "--Ignore the instance.\n",
    "\n",
    "--Use a mean value from similar items.\n",
    "\n",
    "--Use another machine learning algorithm to predict the value.\n",
    "\n",
    "Here, we replace missing values with 0, because 0 makes weights = weights via the update process and we delete data if missing label appears. And the data after preprocessing saved as horseColicTest.txt and horseColicTraining.txt.\n",
    "\n",
    "### 3.2 Test: classifying with logistic regression"
   ]
  },
  {
   "cell_type": "code",
   "execution_count": 12,
   "metadata": {},
   "outputs": [],
   "source": [
    "def classify_vector(inX, weights):\n",
    "    prob = sigmoid(sum(inX*weights))\n",
    "    if prob > 0.5: \n",
    "        return 1.0\n",
    "    else: \n",
    "        return 0.0\n",
    "\n",
    "def colic_test():\n",
    "    fr_train = open('/Users/jbian/Desktop/CU-life/summerlearning/mlinaction/dataset/horse/horseColicTraining.txt')\n",
    "    fr_test = open('/Users/jbian/Desktop/CU-life/summerlearning/mlinaction/dataset/horse/horseColicTest.txt')\n",
    "    training_set = []\n",
    "    training_labels = []\n",
    "    for line in fr_train.readlines():\n",
    "        curr_line = line.strip().split('\\t')\n",
    "        line_arr =[]\n",
    "        for i in range(21):            # 100个样本 20个特征 第21列为label\n",
    "            line_arr.append(float(curr_line[i]))\n",
    "        training_set.append(line_arr)\n",
    "        training_labels.append(float(curr_line[21]))\n",
    "    train_weights = stoc_grad_ascent_iter(np.array(training_set), training_labels, 1000)\n",
    "    error_count = 0\n",
    "    num_test_vec = 0.0\n",
    "    for line in fr_test.readlines():\n",
    "        num_test_vec += 1.0\n",
    "        curr_line = line.strip().split('\\t')\n",
    "        line_arr =[]\n",
    "        for i in range(21):\n",
    "            line_arr.append(float(curr_line[i]))\n",
    "        if int(classify_vector(np.array(line_arr), train_weights))!= int(curr_line[21]):\n",
    "            error_count += 1\n",
    "    error_rate = (float(error_count)/num_test_vec)\n",
    "    print('the error rate of this test is: %f' % error_rate)\n",
    "    return error_rate\n",
    "\n",
    "def multi_test(num_tests = 10):\n",
    "    error_sum = 0.0\n",
    "    for k in range(num_tests):\n",
    "        error_sum += colic_test()\n",
    "    print('after %d iterations the average error rate is: %f' % (num_tests, error_sum/float(num_tests)))\n",
    "        "
   ]
  },
  {
   "cell_type": "code",
   "execution_count": 13,
   "metadata": {},
   "outputs": [
    {
     "name": "stderr",
     "output_type": "stream",
     "text": [
      "/Users/jbian/anaconda3/lib/python3.6/site-packages/ipykernel_launcher.py:15: RuntimeWarning: overflow encountered in exp\n",
      "  from ipykernel import kernelapp as app\n"
     ]
    },
    {
     "name": "stdout",
     "output_type": "stream",
     "text": [
      "the error rate of this test is: 0.313433\n",
      "the error rate of this test is: 0.298507\n",
      "the error rate of this test is: 0.313433\n",
      "the error rate of this test is: 0.432836\n",
      "the error rate of this test is: 0.328358\n",
      "the error rate of this test is: 0.402985\n",
      "the error rate of this test is: 0.328358\n",
      "the error rate of this test is: 0.402985\n",
      "the error rate of this test is: 0.388060\n",
      "the error rate of this test is: 0.417910\n",
      "the error rate of this test is: 0.388060\n",
      "the error rate of this test is: 0.343284\n",
      "the error rate of this test is: 0.417910\n",
      "the error rate of this test is: 0.328358\n",
      "the error rate of this test is: 0.373134\n",
      "the error rate of this test is: 0.268657\n",
      "the error rate of this test is: 0.328358\n",
      "the error rate of this test is: 0.298507\n",
      "the error rate of this test is: 0.268657\n",
      "the error rate of this test is: 0.238806\n",
      "the error rate of this test is: 0.388060\n",
      "the error rate of this test is: 0.373134\n",
      "the error rate of this test is: 0.328358\n",
      "the error rate of this test is: 0.358209\n",
      "the error rate of this test is: 0.298507\n",
      "the error rate of this test is: 0.328358\n",
      "the error rate of this test is: 0.417910\n",
      "the error rate of this test is: 0.298507\n",
      "the error rate of this test is: 0.298507\n",
      "the error rate of this test is: 0.283582\n",
      "the error rate of this test is: 0.373134\n",
      "the error rate of this test is: 0.388060\n",
      "the error rate of this test is: 0.313433\n",
      "the error rate of this test is: 0.283582\n",
      "the error rate of this test is: 0.283582\n",
      "the error rate of this test is: 0.402985\n",
      "the error rate of this test is: 0.447761\n",
      "the error rate of this test is: 0.238806\n",
      "the error rate of this test is: 0.358209\n",
      "the error rate of this test is: 0.447761\n",
      "the error rate of this test is: 0.343284\n",
      "the error rate of this test is: 0.417910\n",
      "the error rate of this test is: 0.373134\n",
      "the error rate of this test is: 0.313433\n",
      "the error rate of this test is: 0.358209\n",
      "the error rate of this test is: 0.462687\n",
      "the error rate of this test is: 0.343284\n",
      "the error rate of this test is: 0.343284\n",
      "the error rate of this test is: 0.373134\n",
      "the error rate of this test is: 0.447761\n",
      "after 50 iterations the average error rate is: 0.351343\n"
     ]
    }
   ],
   "source": [
    "multi_test(50)"
   ]
  },
  {
   "cell_type": "markdown",
   "metadata": {},
   "source": [
    "Results above are not so bad, because we have around 30% missing data."
   ]
  },
  {
   "cell_type": "code",
   "execution_count": null,
   "metadata": {},
   "outputs": [],
   "source": []
  }
 ],
 "metadata": {
  "kernelspec": {
   "display_name": "Python 3",
   "language": "python",
   "name": "python3"
  },
  "language_info": {
   "codemirror_mode": {
    "name": "ipython",
    "version": 3
   },
   "file_extension": ".py",
   "mimetype": "text/x-python",
   "name": "python",
   "nbconvert_exporter": "python",
   "pygments_lexer": "ipython3",
   "version": "3.6.5"
  }
 },
 "nbformat": 4,
 "nbformat_minor": 2
}
